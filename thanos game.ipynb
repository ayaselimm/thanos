{
 "cells": [
  {
   "cell_type": "code",
   "execution_count": 9,
   "metadata": {},
   "outputs": [
    {
     "name": "stdout",
     "output_type": "stream",
     "text": [
      "['cover014.png']\n",
      "perfectly balanced\n"
     ]
    }
   ],
   "source": [
    "import os\n",
    "import random \n",
    "def show_uni(place):\n",
    "    universe= os.listdir(place)\n",
    "    return universe\n",
    "def thanos_snap(universe):\n",
    "    half_of_universe=int(len(universe)/2)\n",
    "    for i in range(half_of_universe):\n",
    "        universe=show_uni('universe/')\n",
    "        os.remove('universe/'+ random.choice(universe))\n",
    "    print(\"perfectly balanced\")\n",
    "universe=show_uni('universe/')\n",
    "print(universe)\n",
    "thanos_snap(universe)"
   ]
  }
 ],
 "metadata": {
  "kernelspec": {
   "display_name": "Python 3",
   "language": "python",
   "name": "python3"
  },
  "language_info": {
   "codemirror_mode": {
    "name": "ipython",
    "version": 3
   },
   "file_extension": ".py",
   "mimetype": "text/x-python",
   "name": "python",
   "nbconvert_exporter": "python",
   "pygments_lexer": "ipython3",
   "version": "3.7.6"
  }
 },
 "nbformat": 4,
 "nbformat_minor": 4
}
